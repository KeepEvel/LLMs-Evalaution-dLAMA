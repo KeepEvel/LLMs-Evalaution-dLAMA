{
 "cells": [
  {
   "cell_type": "code",
   "execution_count": 17,
   "id": "ea3d170f",
   "metadata": {},
   "outputs": [],
   "source": [
    "from langconv import *\n",
    "from tqdm import tqdm\n",
    "import json\n",
    "import re"
   ]
  },
  {
   "cell_type": "code",
   "execution_count": 18,
   "id": "15e5fa30",
   "metadata": {},
   "outputs": [],
   "source": [
    "def load_jsonl_file(file_path):\n",
    "    \"\"\"Load a jsonl file.\"\"\"\n",
    "    data = []\n",
    "    with open(file_path, 'r', encoding=\"utf-8\") as f:\n",
    "        for line in f:\n",
    "            data.append(json.loads(line))\n",
    "    return data\n",
    "\n",
    "\n",
    "def save_jsonl_file(file_path, tuples):\n",
    "    \"\"\"Save tuples as a jsonl file.\"\"\"\n",
    "    with open(file_path, \"w\", encoding=\"utf-8\") as f:\n",
    "        for t in tuples:\n",
    "            f.write(json.dumps(t, ensure_ascii=False) + \"\\n\")\n"
   ]
  },
  {
   "cell_type": "code",
   "execution_count": 19,
   "id": "fb383d14",
   "metadata": {},
   "outputs": [],
   "source": [
    "def Traditional2Simplified(sentence):\n",
    "    '''\n",
    "    将sentence中的繁体字转为简体字\n",
    "    :param sentence: 待转换的句子\n",
    "    :return: 将句子中繁体字转换为简体字之后的句子\n",
    "    '''\n",
    "    sentence = Converter('zh-hans').convert(sentence)\n",
    "    return sentence\n",
    "\n",
    "def Simplified2Traditional(sentence):\n",
    "    '''\n",
    "    将sentence中的简体字转为繁体字\n",
    "    :param sentence: 待转换的句子\n",
    "    :return: 将句子中简体字转换为繁体字之后的句子\n",
    "    '''\n",
    "    sentence = Converter('zh-hant').convert(sentence)\n",
    "    return sentence\n",
    "\n",
    "# cite from: https://blog.csdn.net/wds2006sdo/article/details/53583367"
   ]
  },
  {
   "cell_type": "code",
   "execution_count": 22,
   "id": "72f0b894",
   "metadata": {
    "scrolled": true
   },
   "outputs": [],
   "source": [
    "lang = [\"trans/zh-needTrans\", \"trans/zh-cn-trans-extend\"]\n",
    "#PRETICATES = [\"P1412\", \"P1376\", \"P1303\", \"P530\", \"P495\", \"P449\", \"P364\", \"P264\", \"P190\", \"P136\", \"P106\", \"P103\", \"P47\", \"P37\", \"P36\", \"P30\", \"P27\", \"P20\", \"P19\", \"P17\"]\n",
    "PRETICATES = [\"P449\", \"P264\"]\n",
    "\n",
    "file_paths = {}\n",
    "\n",
    "for i in lang:\n",
    "    file_path_temp = {}\n",
    "    for predicate in PRETICATES:\n",
    "        file_names = [predicate+\"_general_ASIA.jsonl\", predicate+\"_general_WESTERN_COUNTRIES.jsonl\"]\n",
    "        for j in file_names:\n",
    "            file_path_temp[j] = i + \"\\\\\"+ j\n",
    "    file_paths[i] = file_path_temp\n"
   ]
  },
  {
   "cell_type": "code",
   "execution_count": 23,
   "id": "5a8d930d",
   "metadata": {
    "scrolled": true
   },
   "outputs": [
    {
     "name": "stderr",
     "output_type": "stream",
     "text": [
      "100%|████████████████████████████████████████████████████████████████████████████| 1000/1000 [00:00<00:00, 4721.65it/s]\n",
      "100%|████████████████████████████████████████████████████████████████████████████| 1000/1000 [00:00<00:00, 4408.96it/s]\n",
      "100%|████████████████████████████████████████████████████████████████████████████| 1000/1000 [00:00<00:00, 6205.58it/s]\n",
      "100%|████████████████████████████████████████████████████████████████████████████| 1000/1000 [00:00<00:00, 2636.14it/s]\n"
     ]
    }
   ],
   "source": [
    "for i in file_paths[\"trans/zh-needTrans\"].keys():\n",
    "    zhcn_triples = []\n",
    "    file_path_zh = file_paths[\"trans/zh-needTrans\"][i]\n",
    "    file_path_zhcn = file_paths[\"trans/zh-cn-trans-extend\"][i]\n",
    "    for triple in tqdm(load_jsonl_file(file_path_zh)):\n",
    "        \n",
    "        translated_sub = Traditional2Simplified(triple[\"sub_label\"])\n",
    "        \n",
    "        translated_obj_temp = [Traditional2Simplified(obj) for obj in triple[\"obj_label\"]]\n",
    "        # remove the duplicate items\n",
    "        translated_obj_temp = list(set(translated_obj_temp))\n",
    "        # remove items that are not in Chinese\n",
    "        #translated_obj = [a for a in translated_obj_temp if re.match(r'^[\\u4e00-\\u9fff]+$', a)]\n",
    "        translated_obj = translated_obj_temp\n",
    "        \n",
    "        \n",
    "        \n",
    "        triple[\"sub_label\"] = translated_sub\n",
    "        triple[\"obj_label\"] = translated_obj\n",
    "        \n",
    "        zhcn_triples.append(triple)\n",
    "    save_jsonl_file(file_path_zhcn, zhcn_triples)"
   ]
  },
  {
   "cell_type": "code",
   "execution_count": null,
   "id": "34302a17",
   "metadata": {},
   "outputs": [],
   "source": []
  }
 ],
 "metadata": {
  "kernelspec": {
   "display_name": "Python 3 (ipykernel)",
   "language": "python",
   "name": "python3"
  },
  "language_info": {
   "codemirror_mode": {
    "name": "ipython",
    "version": 3
   },
   "file_extension": ".py",
   "mimetype": "text/x-python",
   "name": "python",
   "nbconvert_exporter": "python",
   "pygments_lexer": "ipython3",
   "version": "3.10.11"
  }
 },
 "nbformat": 4,
 "nbformat_minor": 5
}
